{
 "cells": [
  {
   "cell_type": "code",
   "execution_count": 26,
   "metadata": {},
   "outputs": [],
   "source": [
    "import pandas as pd\n",
    "import numpy as np\n",
    "import matplotlib.pyplot as plt\n",
    "import time\n",
    "import datetime\n",
    "import os"
   ]
  },
  {
   "cell_type": "code",
   "execution_count": 35,
   "metadata": {},
   "outputs": [],
   "source": [
    "def file_name(file_dir):   \n",
    "    L=[]\n",
    "    files = []\n",
    "    for root, dirs, files in os.walk(file_dir):  \n",
    "        for file in files:  \n",
    "            if os.path.splitext(file)[1] == '.csv':  \n",
    "                L.append(os.path.join(root, file))\n",
    "    return L      \n",
    "\n",
    "def str2ts(str_time): \n",
    "    format_dt = \"%Y-%m-%d %H:%M:%S\" \n",
    "    return int(time.mktime(time.strptime(str_time,format_dt)))\n",
    "\n",
    "def trans_csv(file_path):\n",
    "    df = pd.read_csv(file_path, sep=',')\n",
    "    df['timestamp'] = df.timestamp.apply(str2ts)\n",
    "    df.to_csv(file_path,index=False)"
   ]
  },
  {
   "cell_type": "code",
   "execution_count": 39,
   "metadata": {},
   "outputs": [],
   "source": [
    "files = file_name(\"/Users/shijia/project/my_bupt/NAB-master/data\")\n",
    "for file in files:\n",
    "    trans_csv(file)"
   ]
  },
  {
   "cell_type": "code",
   "execution_count": null,
   "metadata": {},
   "outputs": [],
   "source": []
  }
 ],
 "metadata": {
  "kernelspec": {
   "display_name": "Python 3",
   "language": "python",
   "name": "python3"
  },
  "language_info": {
   "codemirror_mode": {
    "name": "ipython",
    "version": 3
   },
   "file_extension": ".py",
   "mimetype": "text/x-python",
   "name": "python",
   "nbconvert_exporter": "python",
   "pygments_lexer": "ipython3",
   "version": "3.6.4"
  }
 },
 "nbformat": 4,
 "nbformat_minor": 2
}
